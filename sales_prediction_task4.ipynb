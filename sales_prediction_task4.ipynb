{
 "cells": [
  {
   "cell_type": "raw",
   "id": "21511738-20c9-4156-aed1-301ddb633b05",
   "metadata": {},
   "source": [
    "SALES PREDICTION USING PYTHON"
   ]
  },
  {
   "cell_type": "code",
   "execution_count": 72,
   "id": "b2111051-8d0c-4b85-b672-874fbae20c8a",
   "metadata": {},
   "outputs": [],
   "source": [
    "import pandas as pd\n",
    "from sklearn.model_selection import train_test_split\n",
    "from sklearn.linear_model import LinearRegression \n",
    "from sklearn.metrics import mean_absolute_error, mean_squared_error, r2_score\n",
    "import numpy as np"
   ]
  },
  {
   "cell_type": "code",
   "execution_count": 73,
   "id": "c1fe7bdd-722b-46e8-8781-7934fd74e230",
   "metadata": {},
   "outputs": [
    {
     "name": "stdout",
     "output_type": "stream",
     "text": [
      "Dataset loaded successfully!\n"
     ]
    }
   ],
   "source": [
    "try:\n",
    "    df = pd.read_csv('C:/Users/Akash/OneDrive - Erin.N.Nagarvala Day School/Desktop/jupyter notebook/advertising.csv')\n",
    "    print(\"Dataset loaded successfully!\")\n",
    "except FileNotFoundError:\n",
    "    print(\"Error: 'advertising.csv' not found. Please ensure the file is uploaded.\")\n",
    "    exit()"
   ]
  },
  {
   "cell_type": "code",
   "execution_count": 74,
   "id": "87989190-7a60-4f0a-bc6c-7a87f050e91d",
   "metadata": {},
   "outputs": [
    {
     "name": "stdout",
     "output_type": "stream",
     "text": [
      "\n",
      "--- Original Dataset Head ---\n",
      "      TV  Radio  Newspaper  Sales\n",
      "0  230.1   37.8       69.2   22.1\n",
      "1   44.5   39.3       45.1   10.4\n",
      "2   17.2   45.9       69.3   12.0\n",
      "3  151.5   41.3       58.5   16.5\n",
      "4  180.8   10.8       58.4   17.9\n",
      "\n",
      "--- Dataset Info ---\n",
      "<class 'pandas.core.frame.DataFrame'>\n",
      "RangeIndex: 200 entries, 0 to 199\n",
      "Data columns (total 4 columns):\n",
      " #   Column     Non-Null Count  Dtype  \n",
      "---  ------     --------------  -----  \n",
      " 0   TV         200 non-null    float64\n",
      " 1   Radio      200 non-null    float64\n",
      " 2   Newspaper  200 non-null    float64\n",
      " 3   Sales      200 non-null    float64\n",
      "dtypes: float64(4)\n",
      "memory usage: 6.4 KB\n",
      "\n",
      "--- Missing Values Before Preprocessing ---\n",
      "TV           0\n",
      "Radio        0\n",
      "Newspaper    0\n",
      "Sales        0\n",
      "dtype: int64\n"
     ]
    }
   ],
   "source": [
    "\n",
    "print(\"\\n--- Original Dataset Head ---\")\n",
    "print(df.head())\n",
    "print(\"\\n--- Dataset Info ---\")\n",
    "df.info()\n",
    "print(\"\\n--- Missing Values Before Preprocessing ---\")\n",
    "print(df.isnull().sum())\n"
   ]
  },
  {
   "cell_type": "code",
   "execution_count": 75,
   "id": "83bb7a52-58ce-4375-a373-c0927c57f2b9",
   "metadata": {},
   "outputs": [
    {
     "name": "stdout",
     "output_type": "stream",
     "text": [
      "\n",
      "--- Missing Values After Preprocessing (if any) ---\n",
      "TV           0\n",
      "Radio        0\n",
      "Newspaper    0\n",
      "Sales        0\n",
      "dtype: int64\n"
     ]
    }
   ],
   "source": [
    "df.dropna(inplace=True)\n",
    "print(\"\\n--- Missing Values After Preprocessing (if any) ---\")\n",
    "print(df.isnull().sum())\n"
   ]
  },
  {
   "cell_type": "code",
   "execution_count": 76,
   "id": "45c5a900-8341-4a64-8930-03faaff9db33",
   "metadata": {},
   "outputs": [
    {
     "name": "stdout",
     "output_type": "stream",
     "text": [
      "\n",
      "--- Preprocessed Dataset Head ---\n",
      "      TV  Radio  Newspaper  Sales\n",
      "0  230.1   37.8       69.2   22.1\n",
      "1   44.5   39.3       45.1   10.4\n",
      "2   17.2   45.9       69.3   12.0\n",
      "3  151.5   41.3       58.5   16.5\n",
      "4  180.8   10.8       58.4   17.9\n"
     ]
    }
   ],
   "source": [
    "print(\"\\n--- Preprocessed Dataset Head ---\")\n",
    "print(df.head())\n"
   ]
  },
  {
   "cell_type": "code",
   "execution_count": 77,
   "id": "0efb185e-1841-4f79-bcd5-400bc5ba434f",
   "metadata": {},
   "outputs": [
    {
     "name": "stdout",
     "output_type": "stream",
     "text": [
      "\n",
      "Training features shape: (160, 3)\n",
      "Testing features shape: (40, 3)\n",
      "Training target shape: (160,)\n",
      "Testing target shape: (40,)\n"
     ]
    }
   ],
   "source": [
    "X = df[['TV', 'Radio', 'Newspaper']]\n",
    "y = df['Sales']\n",
    "\n",
    "X_train, X_test, y_train, y_test = train_test_split(X, y, test_size=0.2, random_state=42)\n",
    "\n",
    "print(f\"\\nTraining features shape: {X_train.shape}\")\n",
    "print(f\"Testing features shape: {X_test.shape}\")\n",
    "print(f\"Training target shape: {y_train.shape}\")\n",
    "print(f\"Testing target shape: {y_test.shape}\")\n"
   ]
  },
  {
   "cell_type": "code",
   "execution_count": 78,
   "id": "d3c27e8f-429a-4ebf-9df0-edb610a93623",
   "metadata": {},
   "outputs": [
    {
     "name": "stdout",
     "output_type": "stream",
     "text": [
      "\n",
      "--- Model Training Complete (Linear Regression) ---\n",
      "Model Coefficients: [0.05450927 0.10094536 0.00433665]\n",
      "Model Intercept: 4.714126402214127\n"
     ]
    }
   ],
   "source": [
    "model = LinearRegression()\n",
    "model.fit(X_train, y_train)\n",
    "\n",
    "print(\"\\n--- Model Training Complete (Linear Regression) ---\")\n",
    "print(f\"Model Coefficients: {model.coef_}\")\n",
    "print(f\"Model Intercept: {model.intercept_}\")\n"
   ]
  },
  {
   "cell_type": "code",
   "execution_count": 79,
   "id": "19274309-89be-4c53-85f2-064b2ff79ce1",
   "metadata": {},
   "outputs": [
    {
     "name": "stdout",
     "output_type": "stream",
     "text": [
      "\n",
      "Mean Absolute Error (MAE): 1.2748\n",
      "Mean Squared Error (MSE): 2.9078\n",
      "Root Mean Squared Error (RMSE): 1.7052\n",
      "R-squared (R2) Score: 0.9059\n"
     ]
    }
   ],
   "source": [
    "y_pred = model.predict(X_test)\n",
    "\n",
    "mae = mean_absolute_error(y_test, y_pred)\n",
    "mse = mean_squared_error(y_test, y_pred)\n",
    "rmse = np.sqrt(mse) \n",
    "r2 = r2_score(y_test, y_pred)\n",
    "\n",
    "print(f\"\\nMean Absolute Error (MAE): {mae:.4f}\")\n",
    "print(f\"Mean Squared Error (MSE): {mse:.4f}\")\n",
    "print(f\"Root Mean Squared Error (RMSE): {rmse:.4f}\")\n",
    "print(f\"R-squared (R2) Score: {r2:.4f}\")\n"
   ]
  },
  {
   "cell_type": "code",
   "execution_count": 80,
   "id": "66c4e386-19f7-4025-82e8-bc4315332c69",
   "metadata": {},
   "outputs": [
    {
     "name": "stdout",
     "output_type": "stream",
     "text": [
      "\n",
      "--- Example Sales Prediction ---\n",
      "Advertising Spend (TV, Radio, Newspaper): [200  40  20]\n",
      "Predicted Sales: 19.74\n"
     ]
    }
   ],
   "source": [
    "print(\"\\n--- Example Sales Prediction ---\")\n",
    "\n",
    "new_ad_spend = pd.DataFrame([[200, 40, 20]], columns=['TV', 'Radio', 'Newspaper'])\n",
    "\n",
    "predicted_sales = model.predict(new_ad_spend)\n",
    "\n",
    "print(f\"Advertising Spend (TV, Radio, Newspaper): {new_ad_spend.values[0]}\")\n",
    "print(f\"Predicted Sales: {predicted_sales[0]:.2f}\")\n"
   ]
  },
  {
   "cell_type": "code",
   "execution_count": 81,
   "id": "a9b1aa08-9752-4d0e-b800-ef9fc5e6e29c",
   "metadata": {},
   "outputs": [
    {
     "name": "stdout",
     "output_type": "stream",
     "text": [
      "\n",
      "Advertising Spend (TV, Radio, Newspaper): [50 10  5]\n",
      "Predicted Sales: 8.47\n"
     ]
    }
   ],
   "source": [
    "new_ad_spend_2 = pd.DataFrame([[50, 10, 5]], columns=['TV', 'Radio', 'Newspaper'])\n",
    "predicted_sales_2 = model.predict(new_ad_spend_2)\n",
    "\n",
    "print(f\"\\nAdvertising Spend (TV, Radio, Newspaper): {new_ad_spend_2.values[0]}\")\n",
    "print(f\"Predicted Sales: {predicted_sales_2[0]:.2f}\")"
   ]
  },
  {
   "cell_type": "code",
   "execution_count": null,
   "id": "688b9e9c-b49d-4960-b98b-a8e8f846e799",
   "metadata": {},
   "outputs": [],
   "source": []
  }
 ],
 "metadata": {
  "kernelspec": {
   "display_name": "Python 3 (ipykernel)",
   "language": "python",
   "name": "python3"
  },
  "language_info": {
   "codemirror_mode": {
    "name": "ipython",
    "version": 3
   },
   "file_extension": ".py",
   "mimetype": "text/x-python",
   "name": "python",
   "nbconvert_exporter": "python",
   "pygments_lexer": "ipython3",
   "version": "3.13.5"
  }
 },
 "nbformat": 4,
 "nbformat_minor": 5
}
