{
 "cells": [
  {
   "cell_type": "raw",
   "id": "c3778201-14f7-4066-8497-bd1fdaee107f",
   "metadata": {},
   "source": [
    "CREDIT CARD FRAUD DETECTION"
   ]
  },
  {
   "cell_type": "code",
   "execution_count": 2,
   "id": "4dcd1747-cb5c-4716-9973-9efbaa6ecd67",
   "metadata": {},
   "outputs": [],
   "source": [
    "import pandas as pd\n",
    "from sklearn.model_selection import train_test_split\n",
    "from sklearn.preprocessing import StandardScaler\n",
    "from sklearn.linear_model import LogisticRegression\n",
    "from sklearn.metrics import classification_report, confusion_matrix, accuracy_score, precision_score, recall_score, f1_score\n",
    "import numpy as np"
   ]
  },
  {
   "cell_type": "code",
   "execution_count": 4,
   "id": "ffb69760-d602-4286-9784-aa5f70cf608b",
   "metadata": {},
   "outputs": [
    {
     "name": "stdout",
     "output_type": "stream",
     "text": [
      "Dataset loaded successfully!\n"
     ]
    }
   ],
   "source": [
    "try:\n",
    "    df = pd.read_csv('C:/Users/Akash/OneDrive - Erin.N.Nagarvala Day School/Desktop/jupyter notebook/creditcard.csv') \n",
    "    print(\"Dataset loaded successfully!\")\n",
    "except FileNotFoundError:\n",
    "    print(\"Error: 'creditcard.csv' not found. Please ensure your credit card fraud dataset file is in the correct directory.\")"
   ]
  },
  {
   "cell_type": "code",
   "execution_count": 6,
   "id": "b62301eb-15c7-415c-91c7-d8742dd41d82",
   "metadata": {},
   "outputs": [],
   "source": [
    "np.random.seed(42)\n",
    "num_samples = 10000\n",
    "df = pd.DataFrame({'Time': np.arange(num_samples),\n",
    "        'V1': np.random.randn(num_samples),\n",
    "        'V2': np.random.randn(num_samples),\n",
    "        'V3': np.random.randn(num_samples),\n",
    "        'Amount': np.random.rand(num_samples) * 1000,\n",
    "        'Class': np.zeros(num_samples, dtype=int) \n",
    "})"
   ]
  },
  {
   "cell_type": "code",
   "execution_count": 10,
   "id": "12715a0f-4e8c-4c35-a95c-30473988eafb",
   "metadata": {},
   "outputs": [],
   "source": [
    "num_fraud = int(num_samples * 0.01)\n",
    "fraud_indices = np.random.choice(num_samples, num_fraud, replace=False)\n",
    "df.loc[fraud_indices, 'Class'] = 1\n",
    "df.loc[fraud_indices, 'V1'] += np.random.randn(num_fraud) * 2\n",
    "df.loc[fraud_indices, 'Amount'] += np.random.rand(num_fraud) * 500"
   ]
  },
  {
   "cell_type": "code",
   "execution_count": 12,
   "id": "a69eb3de-2bdc-449b-95c7-799efb5d9917",
   "metadata": {},
   "outputs": [
    {
     "name": "stdout",
     "output_type": "stream",
     "text": [
      "\n",
      "--- Original Dataset Head ---\n",
      "   Time        V1        V2        V3      Amount  Class\n",
      "0     0  0.496714 -0.678495  0.348286  831.868615      0\n",
      "1     1 -0.138264 -0.305499  0.283324  881.643755      0\n",
      "2     2  0.647689 -0.597381 -0.936520  433.250424      0\n",
      "3     3  1.523030  0.110418  0.579584  374.688021      0\n",
      "4     4 -0.234153  1.197179 -1.490083  612.698947      0\n",
      "\n",
      "--- Dataset Info ---\n",
      "<class 'pandas.core.frame.DataFrame'>\n",
      "RangeIndex: 10000 entries, 0 to 9999\n",
      "Data columns (total 6 columns):\n",
      " #   Column  Non-Null Count  Dtype  \n",
      "---  ------  --------------  -----  \n",
      " 0   Time    10000 non-null  int64  \n",
      " 1   V1      10000 non-null  float64\n",
      " 2   V2      10000 non-null  float64\n",
      " 3   V3      10000 non-null  float64\n",
      " 4   Amount  10000 non-null  float64\n",
      " 5   Class   10000 non-null  int64  \n",
      "dtypes: float64(4), int64(2)\n",
      "memory usage: 468.9 KB\n",
      "\n",
      "--- Class Distribution (Before handling imbalance) ---\n",
      "Class\n",
      "0    9800\n",
      "1     200\n",
      "Name: count, dtype: int64\n",
      "Class\n",
      "0    98.0\n",
      "1     2.0\n",
      "Name: proportion, dtype: float64\n",
      "\n",
      "--- Missing Values Before Preprocessing ---\n",
      "0\n"
     ]
    }
   ],
   "source": [
    "print(\"\\n--- Original Dataset Head ---\")\n",
    "print(df.head())\n",
    "print(\"\\n--- Dataset Info ---\")\n",
    "df.info()\n",
    "print(\"\\n--- Class Distribution (Before handling imbalance) ---\")\n",
    "print(df['Class'].value_counts())\n",
    "print(df['Class'].value_counts(normalize=True) * 100)\n",
    "print(\"\\n--- Missing Values Before Preprocessing ---\")\n",
    "print(df.isnull().sum().sum()) "
   ]
  },
  {
   "cell_type": "code",
   "execution_count": 13,
   "id": "5eb0bb13-f50b-4514-b3f3-e2019fd5dfc4",
   "metadata": {},
   "outputs": [],
   "source": [
    "if 'Time' in df.columns:\n",
    "    df = df.drop('Time', axis=1)\n",
    "\n",
    "X = df.drop('Class', axis=1)\n",
    "y = df['Class']"
   ]
  },
  {
   "cell_type": "code",
   "execution_count": 14,
   "id": "d4421528-ea8a-4313-921c-069d9482fbb3",
   "metadata": {},
   "outputs": [],
   "source": [
    "scaler = StandardScaler()\n",
    "X['Amount'] = scaler.fit_transform(X[['Amount']])"
   ]
  },
  {
   "cell_type": "code",
   "execution_count": 15,
   "id": "0d1be591-831b-4a41-88f5-e80cc82382ec",
   "metadata": {},
   "outputs": [
    {
     "name": "stdout",
     "output_type": "stream",
     "text": [
      "\n",
      "--- Preprocessed Dataset Head (Amount Scaled) ---\n",
      "         V1        V2        V3    Amount\n",
      "0  0.496714 -0.678495  0.348286  1.117517\n",
      "1 -0.138264 -0.305499  0.283324  1.287253\n",
      "2  0.647689 -0.597381 -0.936520 -0.241790\n",
      "3  1.523030  0.110418  0.579584 -0.441490\n",
      "4 -0.234153  1.197179 -1.490083  0.370138\n"
     ]
    }
   ],
   "source": [
    "print(\"\\n--- Preprocessed Dataset Head (Amount Scaled) ---\")\n",
    "print(X.head())\n"
   ]
  },
  {
   "cell_type": "code",
   "execution_count": 16,
   "id": "5b1e036e-b6ad-4d82-8bf0-7cbd32e4f652",
   "metadata": {},
   "outputs": [],
   "source": [
    "X_final = X \n",
    "y_final = y "
   ]
  },
  {
   "cell_type": "code",
   "execution_count": 17,
   "id": "2d274353-0939-44be-99cc-3bbcb6a35b85",
   "metadata": {},
   "outputs": [
    {
     "name": "stdout",
     "output_type": "stream",
     "text": [
      "\n",
      "Training features shape: (7000, 4)\n",
      "Testing features shape: (3000, 4)\n",
      "Training target shape: (7000,)\n",
      "Testing target shape: (3000,)\n",
      "Training set class distribution: Class\n",
      "0    0.98\n",
      "1    0.02\n",
      "Name: proportion, dtype: float64\n",
      "Testing set class distribution: Class\n",
      "0    0.98\n",
      "1    0.02\n",
      "Name: proportion, dtype: float64\n"
     ]
    }
   ],
   "source": [
    "X_train, X_test, y_train, y_test = train_test_split(X_final, y_final, test_size=0.3, random_state=42, stratify=y_final)\n",
    "\n",
    "print(f\"\\nTraining features shape: {X_train.shape}\")\n",
    "print(f\"Testing features shape: {X_test.shape}\")\n",
    "print(f\"Training target shape: {y_train.shape}\")\n",
    "print(f\"Testing target shape: {y_test.shape}\")\n",
    "print(f\"Training set class distribution: {y_train.value_counts(normalize=True)}\")\n",
    "print(f\"Testing set class distribution: {y_test.value_counts(normalize=True)}\")\n",
    "\n"
   ]
  },
  {
   "cell_type": "code",
   "execution_count": 22,
   "id": "64c3373a-1a2e-4165-b5b3-d7ee9f3625c9",
   "metadata": {},
   "outputs": [
    {
     "name": "stdout",
     "output_type": "stream",
     "text": [
      "\n",
      "--- Model Training Complete (Logistic Regression) ---\n",
      "\n",
      "--- Model Evaluation ---\n",
      "Accuracy: 0.6197\n"
     ]
    }
   ],
   "source": [
    "model = LogisticRegression(solver='liblinear', random_state=42, class_weight='balanced')\n",
    "model.fit(X_train, y_train)\n",
    "\n",
    "print(\"\\n--- Model Training Complete (Logistic Regression) ---\")\n",
    "y_pred = model.predict(X_test)\n",
    "y_proba = model.predict_proba(X_test)[:, 1] \n",
    "\n",
    "print(\"\\n--- Model Evaluation ---\")\n",
    "\n",
    "accuracy = accuracy_score(y_test, y_pred)\n",
    "print(f\"Accuracy: {accuracy:.4f}\")"
   ]
  },
  {
   "cell_type": "code",
   "execution_count": 23,
   "id": "f6f68ae3-59ba-4ee3-a28a-a4b33ed03382",
   "metadata": {},
   "outputs": [
    {
     "name": "stdout",
     "output_type": "stream",
     "text": [
      "\n",
      "Confusion Matrix:\n",
      "[[1827 1113]\n",
      " [  28   32]]\n",
      "  True Negatives (TN): 1827\n",
      "  False Positives (FP): 1113 (Type I error - predicting fraud when it's not)\n",
      "  False Negatives (FN): 28 (Type II error - failing to detect fraud)\n",
      "  True Positives (TP): 32\n"
     ]
    }
   ],
   "source": [
    "cm = confusion_matrix(y_test, y_pred)\n",
    "print(\"\\nConfusion Matrix:\")\n",
    "print(cm)\n",
    "print(f\"  True Negatives (TN): {cm[0,0]}\")\n",
    "print(f\"  False Positives (FP): {cm[0,1]} (Type I error - predicting fraud when it's not)\")\n",
    "print(f\"  False Negatives (FN): {cm[1,0]} (Type II error - failing to detect fraud)\")\n",
    "print(f\"  True Positives (TP): {cm[1,1]}\")\n"
   ]
  },
  {
   "cell_type": "code",
   "execution_count": 24,
   "id": "9aea0659-45f2-429c-86f9-697959ee6626",
   "metadata": {},
   "outputs": [
    {
     "name": "stdout",
     "output_type": "stream",
     "text": [
      "\n",
      "Precision (for Fraudulent Class): 0.0279\n",
      "Recall (for Fraudulent Class): 0.5333\n",
      "F1-Score (for Fraudulent Class): 0.0531\n",
      "\n",
      "Classification Report:\n",
      "              precision    recall  f1-score   support\n",
      "\n",
      "           0       0.98      0.62      0.76      2940\n",
      "           1       0.03      0.53      0.05        60\n",
      "\n",
      "    accuracy                           0.62      3000\n",
      "   macro avg       0.51      0.58      0.41      3000\n",
      "weighted avg       0.97      0.62      0.75      3000\n",
      "\n"
     ]
    }
   ],
   "source": [
    "precision = precision_score(y_test, y_pred)\n",
    "print(f\"\\nPrecision (for Fraudulent Class): {precision:.4f}\")\n",
    "\n",
    "recall = recall_score(y_test, y_pred)\n",
    "print(f\"Recall (for Fraudulent Class): {recall:.4f}\")\n",
    "\n",
    "f1 = f1_score(y_test, y_pred)\n",
    "print(f\"F1-Score (for Fraudulent Class): {f1:.4f}\")\n",
    "\n",
    "print(\"\\nClassification Report:\")\n",
    "print(classification_report(y_test, y_pred))\n"
   ]
  },
  {
   "cell_type": "code",
   "execution_count": null,
   "id": "aefb27d5-91ab-46f8-b59f-e07e3aef0f97",
   "metadata": {},
   "outputs": [],
   "source": []
  }
 ],
 "metadata": {
  "kernelspec": {
   "display_name": "Python 3 (ipykernel)",
   "language": "python",
   "name": "python3"
  },
  "language_info": {
   "codemirror_mode": {
    "name": "ipython",
    "version": 3
   },
   "file_extension": ".py",
   "mimetype": "text/x-python",
   "name": "python",
   "nbconvert_exporter": "python",
   "pygments_lexer": "ipython3",
   "version": "3.13.5"
  }
 },
 "nbformat": 4,
 "nbformat_minor": 5
}
